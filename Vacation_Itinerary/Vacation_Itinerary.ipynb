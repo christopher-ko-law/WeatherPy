{
 "cells": [
  {
   "cell_type": "markdown",
   "metadata": {},
   "source": [
    "## Deliverable 3. Create a Travel Itinerary Map."
   ]
  },
  {
   "cell_type": "code",
   "execution_count": 7,
   "metadata": {},
   "outputs": [],
   "source": [
    "# Dependencies and Setup\n",
    "import pandas as pd\n",
    "import requests\n",
    "import gmaps\n",
    "\n",
    "# Import API key\n",
    "from config import g_key\n",
    "\n",
    "# Configure gmaps\n",
    "gmaps.configure(api_key=g_key)"
   ]
  },
  {
   "cell_type": "code",
   "execution_count": 9,
   "metadata": {},
   "outputs": [
    {
     "output_type": "execute_result",
     "data": {
      "text/plain": [
       "   City_ID           City Country  Max Temp Current Description      Lat  \\\n",
       "0        4  Marsh Harbour      BS     26.04       broken clouds  26.5412   \n",
       "1       10         Canton      CN     28.97          light rain  23.1167   \n",
       "2       14      Hithadhoo      MV     28.62          few clouds  -0.6000   \n",
       "3       16       Oussouye      SN     25.10     overcast clouds  12.4850   \n",
       "4       18         Phuket      TH     29.49          few clouds   8.0000   \n",
       "\n",
       "        Lng          Hotel Name  \n",
       "0  -77.0636  Abaco Beach Resort  \n",
       "1  113.2500     Guangzhou Hotel  \n",
       "2   73.0833   Scoop Guest House  \n",
       "3  -16.5469  Auberge du Routard  \n",
       "4   98.2500    The Surin Phuket  "
      ],
      "text/html": "<div>\n<style scoped>\n    .dataframe tbody tr th:only-of-type {\n        vertical-align: middle;\n    }\n\n    .dataframe tbody tr th {\n        vertical-align: top;\n    }\n\n    .dataframe thead th {\n        text-align: right;\n    }\n</style>\n<table border=\"1\" class=\"dataframe\">\n  <thead>\n    <tr style=\"text-align: right;\">\n      <th></th>\n      <th>City_ID</th>\n      <th>City</th>\n      <th>Country</th>\n      <th>Max Temp</th>\n      <th>Current Description</th>\n      <th>Lat</th>\n      <th>Lng</th>\n      <th>Hotel Name</th>\n    </tr>\n  </thead>\n  <tbody>\n    <tr>\n      <th>0</th>\n      <td>4</td>\n      <td>Marsh Harbour</td>\n      <td>BS</td>\n      <td>26.04</td>\n      <td>broken clouds</td>\n      <td>26.5412</td>\n      <td>-77.0636</td>\n      <td>Abaco Beach Resort</td>\n    </tr>\n    <tr>\n      <th>1</th>\n      <td>10</td>\n      <td>Canton</td>\n      <td>CN</td>\n      <td>28.97</td>\n      <td>light rain</td>\n      <td>23.1167</td>\n      <td>113.2500</td>\n      <td>Guangzhou Hotel</td>\n    </tr>\n    <tr>\n      <th>2</th>\n      <td>14</td>\n      <td>Hithadhoo</td>\n      <td>MV</td>\n      <td>28.62</td>\n      <td>few clouds</td>\n      <td>-0.6000</td>\n      <td>73.0833</td>\n      <td>Scoop Guest House</td>\n    </tr>\n    <tr>\n      <th>3</th>\n      <td>16</td>\n      <td>Oussouye</td>\n      <td>SN</td>\n      <td>25.10</td>\n      <td>overcast clouds</td>\n      <td>12.4850</td>\n      <td>-16.5469</td>\n      <td>Auberge du Routard</td>\n    </tr>\n    <tr>\n      <th>4</th>\n      <td>18</td>\n      <td>Phuket</td>\n      <td>TH</td>\n      <td>29.49</td>\n      <td>few clouds</td>\n      <td>8.0000</td>\n      <td>98.2500</td>\n      <td>The Surin Phuket</td>\n    </tr>\n  </tbody>\n</table>\n</div>"
     },
     "metadata": {},
     "execution_count": 9
    }
   ],
   "source": [
    "# 1. Read the WeatherPy_vacation.csv into a DataFrame.\n",
    "vacation_df = pd.read_csv(\"../Vacation_Search/WeatherPy_vacation.csv\")\n",
    "vacation_df.head()"
   ]
  },
  {
   "cell_type": "code",
   "execution_count": 14,
   "metadata": {},
   "outputs": [],
   "source": [
    "# 2. Using the template add the city name, the country code, the weather description and maximum temperature for the city.\n",
    "info_box_template = \"\"\"\n",
    "<dl>\n",
    "<dt><strong>Hotel Name</strong></dt><dd>{Hotel Name}</dd>\n",
    "<dt><strong>City</strong></dt><dd>{City}</dd>\n",
    "<dt><strong>Country</strong></dt><dd>{Country}</dd>\n",
    "<dt><strong>Current Weather</strong></dt><dd>{Current Description} and {Max Temp} °C</dd>\n",
    "</dl>\n",
    "\"\"\"\n",
    "\n",
    "# 3a. Get the data from each row and add it to the formatting template and store the data in a list.\n",
    "hotel_info = [info_box_template.format(**row) for index, row in vacation_df.iterrows()]\n",
    "\n",
    "# 3b. Get the latitude and longitude from each row and store in a new DataFrame.\n",
    "locations = vacation_df[[\"Lat\", \"Lng\"]]"
   ]
  },
  {
   "cell_type": "code",
   "execution_count": 15,
   "metadata": {},
   "outputs": [
    {
     "output_type": "display_data",
     "data": {
      "text/plain": "Figure(layout=FigureLayout(height='420px'))",
      "application/vnd.jupyter.widget-view+json": {
       "version_major": 2,
       "version_minor": 0,
       "model_id": "31cab18ad9da44a58948e0757b0ba920"
      }
     },
     "metadata": {}
    }
   ],
   "source": [
    "# 4a. Add a marker layer for each city to the map.\n",
    "fig = gmaps.figure(center=(30.0, 31.0), zoom_level=1.5)\n",
    "marker_layer = gmaps.marker_layer(locations, info_box_content=hotel_info)\n",
    "fig.add_layer(marker_layer)\n",
    "\n",
    "# 4b. Display the figure\n",
    "fig\n"
   ]
  },
  {
   "cell_type": "code",
   "execution_count": 16,
   "metadata": {},
   "outputs": [],
   "source": [
    "# From the map above pick 4 cities and create a vacation itinerary route to travel between the four cities. \n",
    "# 5. Create DataFrames for each city by filtering the 'vacation_df' using the loc method. \n",
    "# Hint: The starting and ending city should be the same city.\n",
    "\n",
    "vacation_start = vacation_df.loc[vacation_df[\"City\"] == \"Stephenville\"]\n",
    "vacation_end = vacation_df.loc[vacation_df[\"City\"] == \"Stephenville\"]\n",
    "vacation_stop1 = vacation_df.loc[vacation_df[\"City\"] == \"Houma\"]\n",
    "vacation_stop2 = vacation_df.loc[vacation_df[\"City\"] == \"Dickinson\"] \n",
    "vacation_stop3 = vacation_df.loc[vacation_df[\"City\"] == \"San Patricio\"] "
   ]
  },
  {
   "cell_type": "code",
   "execution_count": 17,
   "metadata": {},
   "outputs": [],
   "source": [
    "# 6. Get the latitude-longitude pairs as tuples from each city DataFrame using the to_numpy function and list indexing.\n",
    "start = vacation_start[\"Lat\"].to_numpy()[0], vacation_start[\"Lng\"].to_numpy()[0]\n",
    "end = vacation_end[\"Lat\"].to_numpy()[0], vacation_end[\"Lng\"].to_numpy()[0]\n",
    "stop1 = vacation_stop1[\"Lat\"].to_numpy()[0], vacation_stop1[\"Lng\"].to_numpy()[0]\n",
    "stop2 = vacation_stop2[\"Lat\"].to_numpy()[0], vacation_stop2[\"Lng\"].to_numpy()[0]\n",
    "stop3 = vacation_stop3[\"Lat\"].to_numpy()[0], vacation_stop3[\"Lng\"].to_numpy()[0]\n"
   ]
  },
  {
   "cell_type": "code",
   "execution_count": 41,
   "metadata": {
    "scrolled": true
   },
   "outputs": [
    {
     "output_type": "display_data",
     "data": {
      "text/plain": "Figure(layout=FigureLayout(height='800px', width='1024px'))",
      "application/vnd.jupyter.widget-view+json": {
       "version_major": 2,
       "version_minor": 0,
       "model_id": "b335e1d614514cedad49abd61bdc56b1"
      }
     },
     "metadata": {}
    }
   ],
   "source": [
    "# 7. Create a direction layer map using the start and end latitude-longitude pairs,\n",
    "# and stop1, stop2, and stop3 as the waypoints. The travel_mode should be \"DRIVING\", \"BICYCLING\", or \"WALKING\".\n",
    "fig = gmaps.figure(layout={'width': '1024px', 'height': '800px'})\n",
    "city_itinerary = gmaps.directions_layer(\n",
    "        start, end, waypoints=[stop1, stop2, stop3],\n",
    "        travel_mode='DRIVING')\n",
    "\n",
    "fig.add_layer(city_itinerary)\n",
    "fig\n"
   ]
  },
  {
   "cell_type": "code",
   "execution_count": 21,
   "metadata": {},
   "outputs": [
    {
     "output_type": "execute_result",
     "data": {
      "text/plain": [
       "   City_ID          City Country  Max Temp Current Description      Lat  \\\n",
       "0      341  Stephenville      US     25.19       broken clouds  32.2207   \n",
       "1      541         Houma      US     28.89    scattered clouds  29.5958   \n",
       "2      578     Dickinson      US     29.00       broken clouds  29.4608   \n",
       "3      311  San Patricio      US     29.99    scattered clouds  28.0170   \n",
       "\n",
       "       Lng                                      Hotel Name  \n",
       "0 -98.2023  La Quinta Inn & Suites by Wyndham Stephenville  \n",
       "1 -90.7195                     Courtyard by Marriott Houma  \n",
       "2 -95.0513        Hampton Inn & Suites Houston/League City  \n",
       "3 -97.5169                              Motel 6 Sinton, TX  "
      ],
      "text/html": "<div>\n<style scoped>\n    .dataframe tbody tr th:only-of-type {\n        vertical-align: middle;\n    }\n\n    .dataframe tbody tr th {\n        vertical-align: top;\n    }\n\n    .dataframe thead th {\n        text-align: right;\n    }\n</style>\n<table border=\"1\" class=\"dataframe\">\n  <thead>\n    <tr style=\"text-align: right;\">\n      <th></th>\n      <th>City_ID</th>\n      <th>City</th>\n      <th>Country</th>\n      <th>Max Temp</th>\n      <th>Current Description</th>\n      <th>Lat</th>\n      <th>Lng</th>\n      <th>Hotel Name</th>\n    </tr>\n  </thead>\n  <tbody>\n    <tr>\n      <th>0</th>\n      <td>341</td>\n      <td>Stephenville</td>\n      <td>US</td>\n      <td>25.19</td>\n      <td>broken clouds</td>\n      <td>32.2207</td>\n      <td>-98.2023</td>\n      <td>La Quinta Inn &amp; Suites by Wyndham Stephenville</td>\n    </tr>\n    <tr>\n      <th>1</th>\n      <td>541</td>\n      <td>Houma</td>\n      <td>US</td>\n      <td>28.89</td>\n      <td>scattered clouds</td>\n      <td>29.5958</td>\n      <td>-90.7195</td>\n      <td>Courtyard by Marriott Houma</td>\n    </tr>\n    <tr>\n      <th>2</th>\n      <td>578</td>\n      <td>Dickinson</td>\n      <td>US</td>\n      <td>29.00</td>\n      <td>broken clouds</td>\n      <td>29.4608</td>\n      <td>-95.0513</td>\n      <td>Hampton Inn &amp; Suites Houston/League City</td>\n    </tr>\n    <tr>\n      <th>3</th>\n      <td>311</td>\n      <td>San Patricio</td>\n      <td>US</td>\n      <td>29.99</td>\n      <td>scattered clouds</td>\n      <td>28.0170</td>\n      <td>-97.5169</td>\n      <td>Motel 6 Sinton, TX</td>\n    </tr>\n  </tbody>\n</table>\n</div>"
     },
     "metadata": {},
     "execution_count": 21
    }
   ],
   "source": [
    "# 8. To create a marker layer map between the four cities.\n",
    "#  Combine the four city DataFrames into one DataFrame using the concat() function.\n",
    "itinerary_df = pd.concat([vacation_start,vacation_stop1,vacation_stop2,vacation_stop3],ignore_index=True)\n",
    "itinerary_df"
   ]
  },
  {
   "cell_type": "code",
   "execution_count": 22,
   "metadata": {},
   "outputs": [],
   "source": [
    "# 9 Using the template add city name, the country code, the weather description and maximum temperature for the city. \n",
    "info_box_template = \"\"\"\n",
    "<dl>\n",
    "<dt><strong>Hotel Name</strong></dt><dd>{Hotel Name}</dd>\n",
    "<dt><strong>City</strong></dt><dd>{City}</dd>\n",
    "<dt><strong>Country</strong></dt><dd>{Country}</dd>\n",
    "<dt><strong>Current Weather</strong></dt><dd>{Current Description} and {Max Temp} °C</dd>\n",
    "</dl>\n",
    "\"\"\"\n",
    "\n",
    "# 10a Get the data from each row and add it to the formatting template and store the data in a list.\n",
    "hotel_info = [info_box_template.format(**row) for index, row in itinerary_df.iterrows()]\n",
    "\n",
    "# 10b. Get the latitude and longitude from each row and store in a new DataFrame.\n",
    "locations = itinerary_df[[\"Lat\", \"Lng\"]]"
   ]
  },
  {
   "cell_type": "code",
   "execution_count": 40,
   "metadata": {},
   "outputs": [
    {
     "output_type": "display_data",
     "data": {
      "text/plain": "Figure(layout=FigureLayout(height='800px', width='1024px'))",
      "application/vnd.jupyter.widget-view+json": {
       "version_major": 2,
       "version_minor": 0,
       "model_id": "35af0e18f8704a0a916ba4418d85666a"
      }
     },
     "metadata": {}
    }
   ],
   "source": [
    "# 11a. Add a marker layer for each city to the map.\n",
    "\n",
    "#fig = gmaps.figure(center=(31.0, -95.0), zoom_level=6)\n",
    "fig = gmaps.figure(layout={'width': '1024px', 'height': '800px'})\n",
    "marker_layer = gmaps.marker_layer(locations, info_box_content=hotel_info)\n",
    "fig.add_layer(marker_layer)\n",
    "\n",
    "# 11b. Display the figure\n",
    "fig"
   ]
  },
  {
   "cell_type": "code",
   "execution_count": null,
   "metadata": {},
   "outputs": [],
   "source": []
  }
 ],
 "metadata": {
  "kernelspec": {
   "name": "pythondata",
   "display_name": "Python 3.7.9 64-bit ('PythonData': conda)"
  },
  "language_info": {
   "codemirror_mode": {
    "name": "ipython",
    "version": 3
   },
   "file_extension": ".py",
   "mimetype": "text/x-python",
   "name": "python",
   "nbconvert_exporter": "python",
   "pygments_lexer": "ipython3",
   "version": "3.7.9"
  },
  "latex_envs": {
   "LaTeX_envs_menu_present": true,
   "autoclose": false,
   "autocomplete": true,
   "bibliofile": "biblio.bib",
   "cite_by": "apalike",
   "current_citInitial": 1,
   "eqLabelWithNumbers": true,
   "eqNumInitial": 1,
   "hotkeys": {
    "equation": "Ctrl-E",
    "itemize": "Ctrl-I"
   },
   "labels_anchors": false,
   "latex_user_defs": false,
   "report_style_numbering": false,
   "user_envs_cfg": false
  }
 },
 "nbformat": 4,
 "nbformat_minor": 2
}