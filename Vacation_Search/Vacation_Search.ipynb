{
 "cells": [
  {
   "cell_type": "markdown",
   "metadata": {},
   "source": [
    "## Deliverable 2. Create a Customer Travel Destinations Map."
   ]
  },
  {
   "cell_type": "code",
   "execution_count": 1,
   "metadata": {},
   "outputs": [],
   "source": [
    "# Dependencies and Setup\n",
    "import pandas as pd\n",
    "import requests\n",
    "import gmaps\n",
    "\n",
    "# Import API key\n",
    "from config import g_key\n",
    "\n",
    "# Configure gmaps API key\n",
    "gmaps.configure(api_key=g_key)"
   ]
  },
  {
   "cell_type": "code",
   "execution_count": 3,
   "metadata": {},
   "outputs": [
    {
     "output_type": "execute_result",
     "data": {
      "text/plain": [
       "   City_ID           City Country      Lat       Lng  Max Temp  Humidity  \\\n",
       "0        0           Lata      PT  40.1629   -8.3327     19.40        85   \n",
       "1        1    Sunndalsora      NO  62.6754    8.5515     10.03        80   \n",
       "2        2          Bluff      NZ -46.6000  168.3333      9.89        90   \n",
       "3        3          Vaini      TO -21.2000 -175.2000     21.09        94   \n",
       "4        4  Marsh Harbour      BS  26.5412  -77.0636     26.04        77   \n",
       "\n",
       "   Cloudiness  Wind Speed Current Description  \n",
       "0           7        0.97           clear sky  \n",
       "1          82        0.08       broken clouds  \n",
       "2         100        9.78     overcast clouds  \n",
       "3          90        3.09       moderate rain  \n",
       "4          66        5.50       broken clouds  "
      ],
      "text/html": "<div>\n<style scoped>\n    .dataframe tbody tr th:only-of-type {\n        vertical-align: middle;\n    }\n\n    .dataframe tbody tr th {\n        vertical-align: top;\n    }\n\n    .dataframe thead th {\n        text-align: right;\n    }\n</style>\n<table border=\"1\" class=\"dataframe\">\n  <thead>\n    <tr style=\"text-align: right;\">\n      <th></th>\n      <th>City_ID</th>\n      <th>City</th>\n      <th>Country</th>\n      <th>Lat</th>\n      <th>Lng</th>\n      <th>Max Temp</th>\n      <th>Humidity</th>\n      <th>Cloudiness</th>\n      <th>Wind Speed</th>\n      <th>Current Description</th>\n    </tr>\n  </thead>\n  <tbody>\n    <tr>\n      <th>0</th>\n      <td>0</td>\n      <td>Lata</td>\n      <td>PT</td>\n      <td>40.1629</td>\n      <td>-8.3327</td>\n      <td>19.40</td>\n      <td>85</td>\n      <td>7</td>\n      <td>0.97</td>\n      <td>clear sky</td>\n    </tr>\n    <tr>\n      <th>1</th>\n      <td>1</td>\n      <td>Sunndalsora</td>\n      <td>NO</td>\n      <td>62.6754</td>\n      <td>8.5515</td>\n      <td>10.03</td>\n      <td>80</td>\n      <td>82</td>\n      <td>0.08</td>\n      <td>broken clouds</td>\n    </tr>\n    <tr>\n      <th>2</th>\n      <td>2</td>\n      <td>Bluff</td>\n      <td>NZ</td>\n      <td>-46.6000</td>\n      <td>168.3333</td>\n      <td>9.89</td>\n      <td>90</td>\n      <td>100</td>\n      <td>9.78</td>\n      <td>overcast clouds</td>\n    </tr>\n    <tr>\n      <th>3</th>\n      <td>3</td>\n      <td>Vaini</td>\n      <td>TO</td>\n      <td>-21.2000</td>\n      <td>-175.2000</td>\n      <td>21.09</td>\n      <td>94</td>\n      <td>90</td>\n      <td>3.09</td>\n      <td>moderate rain</td>\n    </tr>\n    <tr>\n      <th>4</th>\n      <td>4</td>\n      <td>Marsh Harbour</td>\n      <td>BS</td>\n      <td>26.5412</td>\n      <td>-77.0636</td>\n      <td>26.04</td>\n      <td>77</td>\n      <td>66</td>\n      <td>5.50</td>\n      <td>broken clouds</td>\n    </tr>\n  </tbody>\n</table>\n</div>"
     },
     "metadata": {},
     "execution_count": 3
    }
   ],
   "source": [
    "# 1. Import the WeatherPy_database.csv file. \n",
    "city_data_df = pd.read_csv(\"../Weather_Database/WeatherPy_database.csv\")\n",
    "city_data_df.head()"
   ]
  },
  {
   "cell_type": "code",
   "execution_count": 4,
   "metadata": {},
   "outputs": [],
   "source": [
    "# 2. Prompt the user to enter minimum and maximum temperature criteria \n",
    "min_temp = float(input(\"What is the minimum temperature (celsius) you would like for your trip? \"))\n",
    "max_temp = float(input(\"What is the maximum temperature (celsius) you would like for your trip? \"))"
   ]
  },
  {
   "cell_type": "code",
   "execution_count": 5,
   "metadata": {},
   "outputs": [
    {
     "output_type": "execute_result",
     "data": {
      "text/plain": [
       "    City_ID           City Country      Lat       Lng  Max Temp  Humidity  \\\n",
       "4         4  Marsh Harbour      BS  26.5412  -77.0636     26.04        77   \n",
       "10       10         Canton      CN  23.1167  113.2500     28.97        79   \n",
       "14       14      Hithadhoo      MV  -0.6000   73.0833     28.62        72   \n",
       "16       16       Oussouye      SN  12.4850  -16.5469     25.10        77   \n",
       "18       18         Phuket      TH   8.0000   98.2500     29.49        93   \n",
       "20       20         Kashan      IR  33.9831   51.4364     28.51        12   \n",
       "21       21         Tiarei      PF -17.5333 -149.3333     28.89        74   \n",
       "25       25         Hirara      JP  24.8000  125.2833     26.15       100   \n",
       "35       35         Avarua      CK -21.2078 -159.7750     26.03        57   \n",
       "61       61         Touros      BR  -5.1989  -35.4608     25.50        86   \n",
       "\n",
       "    Cloudiness  Wind Speed Current Description  \n",
       "4           66        5.50       broken clouds  \n",
       "10         100        1.62          light rain  \n",
       "14          15        8.34          few clouds  \n",
       "16         100        4.33     overcast clouds  \n",
       "18          20        3.37          few clouds  \n",
       "20           0        1.03           clear sky  \n",
       "21          93        7.34     overcast clouds  \n",
       "25          75        2.57       broken clouds  \n",
       "35          20        3.60          few clouds  \n",
       "61          63        4.33       broken clouds  "
      ],
      "text/html": "<div>\n<style scoped>\n    .dataframe tbody tr th:only-of-type {\n        vertical-align: middle;\n    }\n\n    .dataframe tbody tr th {\n        vertical-align: top;\n    }\n\n    .dataframe thead th {\n        text-align: right;\n    }\n</style>\n<table border=\"1\" class=\"dataframe\">\n  <thead>\n    <tr style=\"text-align: right;\">\n      <th></th>\n      <th>City_ID</th>\n      <th>City</th>\n      <th>Country</th>\n      <th>Lat</th>\n      <th>Lng</th>\n      <th>Max Temp</th>\n      <th>Humidity</th>\n      <th>Cloudiness</th>\n      <th>Wind Speed</th>\n      <th>Current Description</th>\n    </tr>\n  </thead>\n  <tbody>\n    <tr>\n      <th>4</th>\n      <td>4</td>\n      <td>Marsh Harbour</td>\n      <td>BS</td>\n      <td>26.5412</td>\n      <td>-77.0636</td>\n      <td>26.04</td>\n      <td>77</td>\n      <td>66</td>\n      <td>5.50</td>\n      <td>broken clouds</td>\n    </tr>\n    <tr>\n      <th>10</th>\n      <td>10</td>\n      <td>Canton</td>\n      <td>CN</td>\n      <td>23.1167</td>\n      <td>113.2500</td>\n      <td>28.97</td>\n      <td>79</td>\n      <td>100</td>\n      <td>1.62</td>\n      <td>light rain</td>\n    </tr>\n    <tr>\n      <th>14</th>\n      <td>14</td>\n      <td>Hithadhoo</td>\n      <td>MV</td>\n      <td>-0.6000</td>\n      <td>73.0833</td>\n      <td>28.62</td>\n      <td>72</td>\n      <td>15</td>\n      <td>8.34</td>\n      <td>few clouds</td>\n    </tr>\n    <tr>\n      <th>16</th>\n      <td>16</td>\n      <td>Oussouye</td>\n      <td>SN</td>\n      <td>12.4850</td>\n      <td>-16.5469</td>\n      <td>25.10</td>\n      <td>77</td>\n      <td>100</td>\n      <td>4.33</td>\n      <td>overcast clouds</td>\n    </tr>\n    <tr>\n      <th>18</th>\n      <td>18</td>\n      <td>Phuket</td>\n      <td>TH</td>\n      <td>8.0000</td>\n      <td>98.2500</td>\n      <td>29.49</td>\n      <td>93</td>\n      <td>20</td>\n      <td>3.37</td>\n      <td>few clouds</td>\n    </tr>\n    <tr>\n      <th>20</th>\n      <td>20</td>\n      <td>Kashan</td>\n      <td>IR</td>\n      <td>33.9831</td>\n      <td>51.4364</td>\n      <td>28.51</td>\n      <td>12</td>\n      <td>0</td>\n      <td>1.03</td>\n      <td>clear sky</td>\n    </tr>\n    <tr>\n      <th>21</th>\n      <td>21</td>\n      <td>Tiarei</td>\n      <td>PF</td>\n      <td>-17.5333</td>\n      <td>-149.3333</td>\n      <td>28.89</td>\n      <td>74</td>\n      <td>93</td>\n      <td>7.34</td>\n      <td>overcast clouds</td>\n    </tr>\n    <tr>\n      <th>25</th>\n      <td>25</td>\n      <td>Hirara</td>\n      <td>JP</td>\n      <td>24.8000</td>\n      <td>125.2833</td>\n      <td>26.15</td>\n      <td>100</td>\n      <td>75</td>\n      <td>2.57</td>\n      <td>broken clouds</td>\n    </tr>\n    <tr>\n      <th>35</th>\n      <td>35</td>\n      <td>Avarua</td>\n      <td>CK</td>\n      <td>-21.2078</td>\n      <td>-159.7750</td>\n      <td>26.03</td>\n      <td>57</td>\n      <td>20</td>\n      <td>3.60</td>\n      <td>few clouds</td>\n    </tr>\n    <tr>\n      <th>61</th>\n      <td>61</td>\n      <td>Touros</td>\n      <td>BR</td>\n      <td>-5.1989</td>\n      <td>-35.4608</td>\n      <td>25.50</td>\n      <td>86</td>\n      <td>63</td>\n      <td>4.33</td>\n      <td>broken clouds</td>\n    </tr>\n  </tbody>\n</table>\n</div>"
     },
     "metadata": {},
     "execution_count": 5
    }
   ],
   "source": [
    "# 3. Filter the city_data_df DataFrame using the input statements to create a new DataFrame using the loc method.\n",
    "preferred_cities_df = city_data_df.loc[(city_data_df[\"Max Temp\"] <= max_temp) & \\\n",
    "                                       (city_data_df[\"Max Temp\"] >= min_temp)]\n",
    "preferred_cities_df.head(10)"
   ]
  },
  {
   "cell_type": "code",
   "execution_count": 6,
   "metadata": {},
   "outputs": [
    {
     "output_type": "execute_result",
     "data": {
      "text/plain": [
       "City_ID                158\n",
       "City                   158\n",
       "Country                158\n",
       "Lat                    158\n",
       "Lng                    158\n",
       "Max Temp               158\n",
       "Humidity               158\n",
       "Cloudiness             158\n",
       "Wind Speed             158\n",
       "Current Description    158\n",
       "dtype: int64"
      ]
     },
     "metadata": {},
     "execution_count": 6
    }
   ],
   "source": [
    "# 4a. Determine if there are any empty rows.\n",
    "preferred_cities_df.count()"
   ]
  },
  {
   "cell_type": "code",
   "execution_count": 7,
   "metadata": {},
   "outputs": [],
   "source": [
    "# 4b. Drop any empty rows and create a new DataFrame that doesn’t have empty rows.\n",
    "clean_df = preferred_cities_df.dropna()"
   ]
  },
  {
   "cell_type": "code",
   "execution_count": 8,
   "metadata": {},
   "outputs": [
    {
     "output_type": "execute_result",
     "data": {
      "text/plain": [
       "             City Country  Max Temp Current Description      Lat       Lng  \\\n",
       "4   Marsh Harbour      BS     26.04       broken clouds  26.5412  -77.0636   \n",
       "10         Canton      CN     28.97          light rain  23.1167  113.2500   \n",
       "14      Hithadhoo      MV     28.62          few clouds  -0.6000   73.0833   \n",
       "16       Oussouye      SN     25.10     overcast clouds  12.4850  -16.5469   \n",
       "18         Phuket      TH     29.49          few clouds   8.0000   98.2500   \n",
       "20         Kashan      IR     28.51           clear sky  33.9831   51.4364   \n",
       "21         Tiarei      PF     28.89     overcast clouds -17.5333 -149.3333   \n",
       "25         Hirara      JP     26.15       broken clouds  24.8000  125.2833   \n",
       "35         Avarua      CK     26.03          few clouds -21.2078 -159.7750   \n",
       "61         Touros      BR     25.50       broken clouds  -5.1989  -35.4608   \n",
       "\n",
       "   Hotel Name  \n",
       "4              \n",
       "10             \n",
       "14             \n",
       "16             \n",
       "18             \n",
       "20             \n",
       "21             \n",
       "25             \n",
       "35             \n",
       "61             "
      ],
      "text/html": "<div>\n<style scoped>\n    .dataframe tbody tr th:only-of-type {\n        vertical-align: middle;\n    }\n\n    .dataframe tbody tr th {\n        vertical-align: top;\n    }\n\n    .dataframe thead th {\n        text-align: right;\n    }\n</style>\n<table border=\"1\" class=\"dataframe\">\n  <thead>\n    <tr style=\"text-align: right;\">\n      <th></th>\n      <th>City</th>\n      <th>Country</th>\n      <th>Max Temp</th>\n      <th>Current Description</th>\n      <th>Lat</th>\n      <th>Lng</th>\n      <th>Hotel Name</th>\n    </tr>\n  </thead>\n  <tbody>\n    <tr>\n      <th>4</th>\n      <td>Marsh Harbour</td>\n      <td>BS</td>\n      <td>26.04</td>\n      <td>broken clouds</td>\n      <td>26.5412</td>\n      <td>-77.0636</td>\n      <td></td>\n    </tr>\n    <tr>\n      <th>10</th>\n      <td>Canton</td>\n      <td>CN</td>\n      <td>28.97</td>\n      <td>light rain</td>\n      <td>23.1167</td>\n      <td>113.2500</td>\n      <td></td>\n    </tr>\n    <tr>\n      <th>14</th>\n      <td>Hithadhoo</td>\n      <td>MV</td>\n      <td>28.62</td>\n      <td>few clouds</td>\n      <td>-0.6000</td>\n      <td>73.0833</td>\n      <td></td>\n    </tr>\n    <tr>\n      <th>16</th>\n      <td>Oussouye</td>\n      <td>SN</td>\n      <td>25.10</td>\n      <td>overcast clouds</td>\n      <td>12.4850</td>\n      <td>-16.5469</td>\n      <td></td>\n    </tr>\n    <tr>\n      <th>18</th>\n      <td>Phuket</td>\n      <td>TH</td>\n      <td>29.49</td>\n      <td>few clouds</td>\n      <td>8.0000</td>\n      <td>98.2500</td>\n      <td></td>\n    </tr>\n    <tr>\n      <th>20</th>\n      <td>Kashan</td>\n      <td>IR</td>\n      <td>28.51</td>\n      <td>clear sky</td>\n      <td>33.9831</td>\n      <td>51.4364</td>\n      <td></td>\n    </tr>\n    <tr>\n      <th>21</th>\n      <td>Tiarei</td>\n      <td>PF</td>\n      <td>28.89</td>\n      <td>overcast clouds</td>\n      <td>-17.5333</td>\n      <td>-149.3333</td>\n      <td></td>\n    </tr>\n    <tr>\n      <th>25</th>\n      <td>Hirara</td>\n      <td>JP</td>\n      <td>26.15</td>\n      <td>broken clouds</td>\n      <td>24.8000</td>\n      <td>125.2833</td>\n      <td></td>\n    </tr>\n    <tr>\n      <th>35</th>\n      <td>Avarua</td>\n      <td>CK</td>\n      <td>26.03</td>\n      <td>few clouds</td>\n      <td>-21.2078</td>\n      <td>-159.7750</td>\n      <td></td>\n    </tr>\n    <tr>\n      <th>61</th>\n      <td>Touros</td>\n      <td>BR</td>\n      <td>25.50</td>\n      <td>broken clouds</td>\n      <td>-5.1989</td>\n      <td>-35.4608</td>\n      <td></td>\n    </tr>\n  </tbody>\n</table>\n</div>"
     },
     "metadata": {},
     "execution_count": 8
    }
   ],
   "source": [
    "# 5a. Create DataFrame called hotel_df to store hotel names along with city, country, max temp, and coordinates.\n",
    "hotel_df = clean_df[[\"City\", \"Country\", \"Max Temp\", \"Current Description\", \"Lat\", \"Lng\"]].copy()\n",
    "\n",
    "# 5b. Create a new column \"Hotel Name\"\n",
    "hotel_df[\"Hotel Name\"] = \"\"\n",
    "hotel_df.head(10)"
   ]
  },
  {
   "cell_type": "code",
   "execution_count": 9,
   "metadata": {},
   "outputs": [
    {
     "output_type": "stream",
     "name": "stdout",
     "text": [
      "Hotel not found... skipping.\n",
      "Hotel not found... skipping.\n",
      "Hotel not found... skipping.\n",
      "Hotel not found... skipping.\n",
      "Hotel not found... skipping.\n",
      "Hotel not found... skipping.\n",
      "Hotel not found... skipping.\n"
     ]
    }
   ],
   "source": [
    "# 6a. Set parameters to search for hotels with 5000 meters.\n",
    "params = {\n",
    "    \"radius\": 5000,\n",
    "    \"type\": \"lodging\",\n",
    "    \"key\": g_key\n",
    "}\n",
    "\n",
    "# 6b. Iterate through the hotel DataFrame.\n",
    "for index, row in hotel_df.iterrows():\n",
    "\n",
    "    # 6c. Get latitude and longitude from DataFrame\n",
    "    lat = row['Lat']\n",
    "    lng = row['Lng']\n",
    "\n",
    "    # Add the latitude and longitude to location key for the params dictionary.\n",
    "    params[\"location\"] = f\"{lat},{lng}\"\n",
    "\n",
    "    # 6d. Set up the base URL for the Google Directions API to get JSON data.\n",
    "    base_url = \"https://maps.googleapis.com/maps/api/place/nearbysearch/json\"\n",
    "    \n",
    "    # 6e. Make request and retrieve the JSON data from the search. \n",
    "    hotels = requests.get(base_url, params=params).json()\n",
    "    \n",
    "    # 6f. Get the first hotel from the results and store the name, if a hotel isn't found skip the city.\n",
    "    try:\n",
    "        hotel_df.loc[index, \"Hotel Name\"] = hotels[\"results\"][0][\"name\"]\n",
    "    except (IndexError):\n",
    "        print(\"Hotel not found... skipping.\") \n",
    "        "
   ]
  },
  {
   "cell_type": "code",
   "execution_count": 10,
   "metadata": {},
   "outputs": [],
   "source": [
    "# 7. Drop the rows where there is no Hotel Name.\n",
    "clean_hotel_df = hotel_df.dropna()"
   ]
  },
  {
   "cell_type": "code",
   "execution_count": 11,
   "metadata": {},
   "outputs": [],
   "source": [
    "# 8a. Create the output File (CSV)\n",
    "output_data_file = \"WeatherPy_vacation.csv\"\n",
    "\n",
    "# 8b. Export the City_Data into a csv\n",
    "clean_hotel_df.to_csv(output_data_file, index_label=\"City_ID\")"
   ]
  },
  {
   "cell_type": "code",
   "execution_count": 17,
   "metadata": {},
   "outputs": [],
   "source": [
    "# 9. Using the template add city name, the country code, the weather description and maximum temperature for the city.\n",
    "info_box_template = \"\"\"\n",
    "<dl>\n",
    "<dt><strong>Hotel Name</strong></dt><dd>{Hotel Name}</dd>\n",
    "<dt><strong>City</strong></dt><dd>{City}</dd>\n",
    "<dt><strong>Country</strong></dt><dd>{Country}</dd>\n",
    "<dt><strong>Current Weather</strong></dt><dd>{Current Description} and {Max Temp} °C</dd>\n",
    "</dl>\n",
    "\"\"\"\n",
    "# 10a. Get data from each row and add it to the formatting template and store the data in a list.\n",
    "hotel_info = [info_box_template.format(**row) for index, row in clean_hotel_df.iterrows()]\n",
    "\n",
    "# 10b. Get the latitude and longitude from each row and store in a new DataFrame.\n",
    "locations = clean_hotel_df[[\"Lat\", \"Lng\"]]"
   ]
  },
  {
   "cell_type": "code",
   "execution_count": 18,
   "metadata": {},
   "outputs": [
    {
     "output_type": "display_data",
     "data": {
      "text/plain": "Figure(layout=FigureLayout(height='420px'))",
      "application/vnd.jupyter.widget-view+json": {
       "version_major": 2,
       "version_minor": 0,
       "model_id": "933d6baeed264d969284cc968c3e9067"
      }
     },
     "metadata": {}
    }
   ],
   "source": [
    "# 11a. Add a marker layer for each city to the map. \n",
    "fig = gmaps.figure(center=(30.0, 31.0), zoom_level=1.5)\n",
    "marker_layer = gmaps.marker_layer(locations, info_box_content=hotel_info)\n",
    "fig.add_layer(marker_layer)\n",
    "\n",
    "# 11b. Display the figure\n",
    "fig"
   ]
  },
  {
   "cell_type": "code",
   "execution_count": null,
   "metadata": {},
   "outputs": [],
   "source": []
  }
 ],
 "metadata": {
  "kernelspec": {
   "name": "pythondata",
   "display_name": "Python 3.7.9 64-bit ('PythonData': conda)"
  },
  "language_info": {
   "codemirror_mode": {
    "name": "ipython",
    "version": 3
   },
   "file_extension": ".py",
   "mimetype": "text/x-python",
   "name": "python",
   "nbconvert_exporter": "python",
   "pygments_lexer": "ipython3",
   "version": "3.7.9"
  },
  "latex_envs": {
   "LaTeX_envs_menu_present": true,
   "autoclose": false,
   "autocomplete": true,
   "bibliofile": "biblio.bib",
   "cite_by": "apalike",
   "current_citInitial": 1,
   "eqLabelWithNumbers": true,
   "eqNumInitial": 1,
   "hotkeys": {
    "equation": "Ctrl-E",
    "itemize": "Ctrl-I"
   },
   "labels_anchors": false,
   "latex_user_defs": false,
   "report_style_numbering": false,
   "user_envs_cfg": false
  }
 },
 "nbformat": 4,
 "nbformat_minor": 2
}